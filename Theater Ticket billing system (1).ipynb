{
 "cells": [
  {
   "cell_type": "code",
   "execution_count": null,
   "id": "3f4d33b6-7218-490b-8e95-b9cb75e9cbfc",
   "metadata": {},
   "outputs": [],
   "source": [
    "                                     # Theater Ticket Billing System Project\n",
    "\n",
    "\n",
    "Normal=300\n",
    "Recliner=50\n",
    "np_price=300\n",
    "r_price=450\n",
    "chips_p=20\n",
    "cold_p=50\n",
    "while True:\n",
    "    name=input(\"Please Enter Customer's Name: \")\n",
    "    print(\"Hello\",name )\n",
    "    print(\"Welcome to Cinestar Multiplex Jaipur\")\n",
    "    print(\"Normal Seat Price: 300\")\n",
    "    print(\"Recliner Seat Price: 450\")\n",
    "    amount=0\n",
    "    choice = input(\"Please Choose Normal/Recliner seat: \").title()\n",
    "    seat=int(input(\"Enter the Number of seat you want to buy: \"))\n",
    "    if choice==\"Normal\":\n",
    "        if Normal<0:\n",
    "            print(\"Houseful\")\n",
    "            \n",
    "        else:\n",
    "          amount+=seat*np_price\n",
    "          Normal-=seat\n",
    "          \n",
    "    if choice==\"Recliner\":\n",
    "        if Recliner<0:\n",
    "            print(\"Houseful\")\n",
    "            \n",
    "        else:\n",
    "           amount+=seat*r_price\n",
    "           Recliner-=seat\n",
    "           \n",
    "        \n",
    "    select= input(\"Do you want to combo\")\n",
    "    print(\"\"\"\n",
    "    You have two type of combo:\n",
    "    1.Chips- price 20\n",
    "    2.Cold drink- price 50\"\"\")\n",
    "    combo=int(input('Please choose combo:'))\n",
    "    if combo==1:\n",
    "        amount+=chips_p\n",
    "        \n",
    "    elif combo==2:\n",
    "        amount+=cold_p\n",
    "        break\n",
    "        \n",
    "    print(\"Invoice receipt :\")       \n",
    "    print(\"-\"*50)\n",
    "    print(\"Choose combo :\",combo )\n",
    "    print(\"Total seat Buy:\",seat)\n",
    "    print(\"Payable Total amount:\",amount)\n",
    "    print(\"-\"*50)\n",
    "    a=input(\"Do you want another customer seat book:\") \n",
    "    if a==\"no\":\n",
    "        print(\"Welcome visit again\")\n",
    "        break\n",
    "\n",
    "\n",
    "    "
   ]
  },
  {
   "cell_type": "code",
   "execution_count": null,
   "id": "0757f23b-4d0c-4a5b-9e09-15f5019ae83f",
   "metadata": {},
   "outputs": [],
   "source": []
  },
  {
   "cell_type": "code",
   "execution_count": null,
   "id": "fd896c0b-583f-4b78-a04c-6cae5817e269",
   "metadata": {},
   "outputs": [],
   "source": []
  },
  {
   "cell_type": "code",
   "execution_count": null,
   "id": "2b28dceb-e983-41b9-ac56-131421381333",
   "metadata": {},
   "outputs": [],
   "source": []
  }
 ],
 "metadata": {
  "kernelspec": {
   "display_name": "Python 3 (ipykernel)",
   "language": "python",
   "name": "python3"
  },
  "language_info": {
   "codemirror_mode": {
    "name": "ipython",
    "version": 3
   },
   "file_extension": ".py",
   "mimetype": "text/x-python",
   "name": "python",
   "nbconvert_exporter": "python",
   "pygments_lexer": "ipython3",
   "version": "3.11.6"
  }
 },
 "nbformat": 4,
 "nbformat_minor": 5
}
